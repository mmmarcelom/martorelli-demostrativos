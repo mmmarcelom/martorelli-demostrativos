{
 "cells": [
  {
   "cell_type": "code",
   "execution_count": 62,
   "metadata": {},
   "outputs": [],
   "source": [
    "#%pip install selenium\n",
    "# https://chromedriver.chromium.org/downloads\n",
    "\n",
    "import time\n",
    "import os\n",
    "\n",
    "from selenium import webdriver\n",
    "from selenium.webdriver.chrome.service import Service\n",
    "from selenium.webdriver.common.by import By\n",
    "from selenium.webdriver.common.alert import Alert\n",
    "from selenium.webdriver.support.ui import Select\n",
    "\n",
    "def preparar_driver(path_projeto):\n",
    "\n",
    "    chrome_options = webdriver.ChromeOptions()\n",
    "    chrome_options.add_experimental_option('prefs', \n",
    "        {\n",
    "            \"plugins.always_open_pdf_externally\": True,\n",
    "            \"download.prompt_for_download\": False,\n",
    "            \"download.directory_upgrade\": True,\n",
    "            'download.default_directory': path_projeto.replace('/', '\\\\') + '\\\\arquivos'\n",
    "        }\n",
    "    )\n",
    "    driver = webdriver.Chrome(service=Service(f'{path_projeto}/chromedriver.exe'), options=chrome_options)\n",
    "    driver.maximize_window()\n",
    "\n",
    "    login_url = 'https://painelprc.trf5.jus.br/painelprc/auth'\n",
    "    driver.get(login_url)\n",
    "\n",
    "    time.sleep(5)\n",
    "    driver.find_element(By.ID, 'btnAutenticar').click()\n",
    "\n",
    "    time.sleep(3)\n",
    "    driver.execute_script(\"window.scrollTo(0, document.body.scrollHeight);\")\n",
    "    time.sleep(1)\n",
    "    driver.find_element(By.ID, 'cardextratodemo').find_element(By.TAG_NAME, 'button').click()\n",
    "\n",
    "    time.sleep(3)\n",
    "    driver.find_element(By.ID, 'form:numeroRequisitorio').clear()\n",
    "    return driver\n",
    "\n",
    "def download_demonstrativo(driver, path_arquivos, requisitorio):\n",
    "\n",
    "    print(f'Buscando requisitório nº {requisitorio}')\n",
    "\n",
    "    nome_arquivo = f'{path_arquivos}/{requisitorio}.pdf'\n",
    "    if os.path.isfile(nome_arquivo): return 'já existe'\n",
    "\n",
    "    driver.find_element(By.ID, 'form:numeroRequisitorio').clear()\n",
    "    driver.find_element(By.ID, 'form:numeroRequisitorio').send_keys(requisitorio)\n",
    "    driver.find_element(By.CSS_SELECTOR, '#form\\:idTipoRequisitorio > tbody > tr > td:nth-child(3) > div').click()\n",
    "\n",
    "    time.sleep(1)\n",
    "    driver.find_element(By.ID, 'form:j_idt65').click()\n",
    "    time.sleep(3)\n",
    "\n",
    "    tabela_resultados = driver.find_element(By.ID, 'outroForm:listaextratoXXT_data')\n",
    "    qtd_celulas_tabela_resultado = len(tabela_resultados.find_elements(By.TAG_NAME, 'td'))\n",
    "    if qtd_celulas_tabela_resultado == 1: return 'não encontrado'\n",
    "    \n",
    "    driver.find_element(By.ID, 'outroForm:listaextratoXXT:0:btnpdf').click()\n",
    "    time.sleep(3)\n",
    "\n",
    "    nome_padrao =  path_arquivos.replace(\"/\", \"\\\\\") + '\\\\PRC'\n",
    "\n",
    "    os.rename(nome_padrao, nome_arquivo)\n",
    "\n",
    "    return 'baixado com sucesso'"
   ]
  },
  {
   "cell_type": "code",
   "execution_count": 60,
   "metadata": {},
   "outputs": [],
   "source": [
    "path_projeto = 'C:/Projetos/Martorelli/Demonstrativos'\n",
    "driver = preparar_driver(path_projeto)"
   ]
  },
  {
   "cell_type": "code",
   "execution_count": 63,
   "metadata": {},
   "outputs": [
    {
     "name": "stdout",
     "output_type": "stream",
     "text": [
      "Requisitório já baixado\n",
      "Requisitório não encontrado\n",
      "Requisitorio baixado com sucesso\n",
      "Requisitorio baixado com sucesso\n",
      "Requisitorio baixado com sucesso\n",
      "Requisitorio baixado com sucesso\n",
      "Requisitorio baixado com sucesso\n",
      "Requisitorio baixado com sucesso\n",
      "Requisitorio baixado com sucesso\n",
      "Requisitorio baixado com sucesso\n"
     ]
    }
   ],
   "source": [
    "requisitorios = [\n",
    "    '2021.80.00.001.201851',\n",
    "    '2021.80.00.001.200568',\n",
    "    '2020.80.00.002.206149',\n",
    "    '2020.80.00.002.207504',\n",
    "    '2020.80.00.002.200562',\n",
    "    '2021.80.00.002.204689',\n",
    "    '2022.80.00.002.205747',\n",
    "    '2021.80.00.001.203308',\n",
    "    '2022.80.00.002.203927',\n",
    "    '2022.80.00.002.203178'\n",
    "]\n",
    "\n",
    "path_arquivos = f'{path_projeto}/arquivos'\n",
    "\n",
    "for requisitorio in requisitorios:\n",
    "    print(f'{requisitorio} {download_demonstrativo(driver, path_arquivos, requisitorio)}')"
   ]
  },
  {
   "cell_type": "code",
   "execution_count": null,
   "metadata": {},
   "outputs": [],
   "source": [
    "print('Pasta dos arquivos:')\n",
    "for file in os.scandir(f'{path_projeto}/arquivos'):\n",
    "    print(file.name)"
   ]
  }
 ],
 "metadata": {
  "kernelspec": {
   "display_name": "Python 3",
   "language": "python",
   "name": "python3"
  },
  "language_info": {
   "codemirror_mode": {
    "name": "ipython",
    "version": 3
   },
   "file_extension": ".py",
   "mimetype": "text/x-python",
   "name": "python",
   "nbconvert_exporter": "python",
   "pygments_lexer": "ipython3",
   "version": "3.11.1"
  },
  "orig_nbformat": 4
 },
 "nbformat": 4,
 "nbformat_minor": 2
}
