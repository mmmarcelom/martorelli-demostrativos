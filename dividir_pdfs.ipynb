{
 "cells": [
  {
   "cell_type": "code",
   "execution_count": 10,
   "metadata": {},
   "outputs": [],
   "source": [
    "\n",
    "        "
   ]
  },
  {
   "cell_type": "code",
   "execution_count": 39,
   "metadata": {},
   "outputs": [
    {
     "name": "stdout",
     "output_type": "stream",
     "text": [
      "Autor GUILHERME ORTIZ MELLO\n",
      "TRIBUNAL REGIONAL FEDERAL DA QUINTA REGIÃO\n",
      "Esparta - TRF5Página 1 de 4\n",
      "Extrato Demonstrativo de Cálculo\n",
      "Processo: No de registro (0311212-31.2021.4.05.0000) e nº de classe (PRC209143-AL (@))\n",
      "Extrato do Autor : GUILHERME ORTIZ MELLO\n",
      "Valor Original 29.000,49\n",
      "Valor Custa 0,00\n",
      "Valor Principal 8.373,87Detalhamento do valor requisitado pelo Juízo da Execução\n",
      "Data Cálculo\n",
      "Data Autuação31/12/2019\n",
      "07/06/2021\n",
      "Índice de Atualização1,0966983093 Fator de Dezembro/2019 até Junho/2021 (IPCA-e)\n",
      "Compensação da MoraDetalhamento do valor Atualizado pelo Tribunal até: 07/2021 (Mês/Ano)\n",
      "3,246963 %\n",
      "Valor Principal Atualz. 9.183,60 = Valor Principal x Ind. De atualização\n",
      "Juros Atualz. 22.621,17 = Valor Juros x Ind. de Atualização\n",
      "Compensação de Mora 298,18 = Valor Principal Atualz. x Ind. Juros Mora\n",
      "Valor Principal 10.313,53\n",
      "PSS Corrigido 1.233,13 = Valor PSS Atualz x Ind. de Correção\n",
      "Compensação de Mora 334,86\n",
      "37.378,68 = (Valor Principal + Juros + Compensação de Mora) Valor a ReceberCorreção (Vlr. Custas) 0,00\n",
      "Valor Pago (Lote Autz.)\n",
      "Saldo Devedor37.378,68\n",
      "0,00= Pagamento Efetivado25.404,45 JurosÍndice de Correção1,12303882820876 Fator de Julho/2021 até Dezembro/2022 (IPCA-e)\n",
      "Indice de Juros 0,0413 = Fora do Prazo Constitucional%Detalhamento do valor corrigido pelo Tribunal até: 05/2023 (Mês/Ano)\n",
      "Parcela : 1\n",
      "Índices utilizados no Demonstrativo de cálculo\n",
      "(PRC209143-AL (@)) - (0311212-31.2021.4.05.0000)\n",
      "1 - Atualização Jul/2021\n",
      "Valor original: 29.000,49\n",
      "* 1,0142001135 (IPCA-E Acumulado - Cálculo - Dez/2019)\n",
      "* 1,0813431143 (IPCA-E Acumulado - Anual - Jul/2020)\n",
      "=32.102,951.2 - Juros Compensação de Mora\n",
      "* 3,246963 % (Compensação da Mora - Jul/2021)\n",
      " (3,246963%) Juros Poupança para todos os mesesAtualização (Vlr.Inscrito)Atualização (Vlr.Custas) 0,00\n",
      "32.102,95 = (Valor Principal + Juros + Compensação de Mora)\n",
      "PSS Atualz 1.098,03 = Valor PSS x Ind. de AtualizaçãoValor PSS 1.001,22Juros 20.626,62Demonstrativo de Cálculos\n",
      "PRC209143\n"
     ]
    }
   ],
   "source": [
    "import PyPDF2\n",
    "import re\n",
    "\n",
    "re_valor_receber = \"(\\d{0,3}(\\.\\d{3})*,\\d{2}) = \\(Valor Principal \\+ Juros \\+ Compensação de Mora\\)\"\n",
    "re_beneficiario = \"Extrato do (Autor|Advogado) \\: ([ A-Z]*)\"\n",
    "\n",
    "# Exemplo de texto:\n",
    "# '37.378,68 = (Valor Principal + Juros + Compensação de Mora) Valor a ReceberCorreção (Vlr. Custas) 0,00'\n",
    "reader = PyPDF2.PdfReader('arquivo1.pdf')\n",
    "page_content = reader.pages[0].extract_text()\n",
    "\n",
    "tipo = re.search(re_beneficiario, page_content).group(1)\n",
    "nome = re.search(re_beneficiario, page_content).group(2)\n",
    "print(tipo, nome)\n",
    "\n",
    "print(page_content)\n",
    "\n",
    "#valor_receber = re.search(re_valor_receber, page_content).group(1)\n",
    "#print(valor_receber)"
   ]
  },
  {
   "cell_type": "code",
   "execution_count": 31,
   "metadata": {},
   "outputs": [
    {
     "data": {
      "text/plain": [
       "5541"
      ]
     },
     "execution_count": 31,
     "metadata": {},
     "output_type": "execute_result"
    }
   ],
   "source": [
    "def split_file(filename, output_folder):\n",
    "    import PyPDF2\n",
    "    import re\n",
    "    \n",
    "    word = 'Nota Explicativa'\n",
    "\n",
    "    reader = PyPDF2.PdfReader(filename)\n",
    "    writer = PyPDF2.PdfWriter()\n",
    "\n",
    "    re_beneficiario = \"Extrato do (Autor|Advogado) \\: ([ A-Z]*)\"\n",
    "\n",
    "    tipo = ''\n",
    "    nome = ''\n",
    "\n",
    "    for page_number in range(len(reader.pages)):\n",
    "        \n",
    "        tipo = re.search(re_beneficiario, page_content).group(1)\n",
    "        nome = re.search(re_beneficiario, page_content).group(2)\n",
    "        \n",
    "        writer.add_page(reader.pages[page_number])\n",
    "        if word in reader.pages[page_number].extract_text():\n",
    "            with open(f\"{output_folder}/{filename.replace('.pdf', '')} - Autor{tipo} - {nome}.pdf\", \"wb\") as file:\n",
    "                writer.write(file)\n",
    "            writer = PyPDF2.PdfWriter()\n",
    "\n",
    "import os\n",
    "\n",
    "path_projeto = 'C:/Projetos/Martorelli/Demonstrativos'\n",
    "filename = f'{path_projeto}/arquivos/2020.80.00.002.208542.pdf'\n",
    "output_folder = f'{path_projeto}/arquivos divididos/'\n",
    "\n",
    "split_file(filename, output_folder)"
   ]
  },
  {
   "cell_type": "code",
   "execution_count": null,
   "metadata": {},
   "outputs": [],
   "source": [
    "#path_projeto = os.path.dirname(os.path.abspath(sys.argv[0]))\n",
    "path_projeto = 'C:/Projetos/Martorelli/Demonstrativos'\n",
    "\n",
    "files = os.listdir(f'{path_projeto}/arquivos')\n",
    "len(files)\n",
    "\n",
    "for file in files:\n",
    "    print(file.name)\n",
    "\n",
    "import PyPDF2"
   ]
  }
 ],
 "metadata": {
  "kernelspec": {
   "display_name": "Python 3",
   "language": "python",
   "name": "python3"
  },
  "language_info": {
   "codemirror_mode": {
    "name": "ipython",
    "version": 3
   },
   "file_extension": ".py",
   "mimetype": "text/x-python",
   "name": "python",
   "nbconvert_exporter": "python",
   "pygments_lexer": "ipython3",
   "version": "3.11.1"
  },
  "orig_nbformat": 4
 },
 "nbformat": 4,
 "nbformat_minor": 2
}
